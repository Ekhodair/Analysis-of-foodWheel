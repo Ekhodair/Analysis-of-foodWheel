{
 "cells": [
  {
   "cell_type": "code",
   "execution_count": 3,
   "metadata": {},
   "outputs": [],
   "source": [
    "import pandas as pd\n",
    "from matplotlib import pyplot as plt"
   ]
  },
  {
   "cell_type": "code",
   "execution_count": 6,
   "metadata": {},
   "outputs": [
    {
     "name": "stdout",
     "output_type": "stream",
     "text": [
      "   id                     name neighborhood     cuisine\n",
      "0   1               Jongro BBQ      Midtown      Korean\n",
      "1   2                 Pocha 32      Midtown      Korean\n",
      "2   3       Nom Wah Tea Parlor    Chinatown     Chinese\n",
      "3   4                Roberta’s     Brooklyn       Pizza\n",
      "4   5             Speedy Romeo     Brooklyn       Pizza\n",
      "5   6             Buddha Bodai    Chinatown  Vegetarian\n",
      "6   7  Nan Xiang Xiao Long Bao       Queens     Chinese\n",
      "7   8     Mission Chinese Food     Downtown     Chinese\n",
      "8   9                  Baohaus     Downtown     Chinese\n",
      "9  10       al di la Trattoria     Brooklyn     Italian\n"
     ]
    }
   ],
   "source": [
    "restaurants = pd.read_csv('restaurants.csv')\n",
    "print(restaurants.head(10))"
   ]
  },
  {
   "cell_type": "markdown",
   "metadata": {},
   "source": [
    "**Inspecting number of different types of cuisine FoodWheel offers**"
   ]
  },
  {
   "cell_type": "code",
   "execution_count": 4,
   "metadata": {},
   "outputs": [
    {
     "name": "stdout",
     "output_type": "stream",
     "text": [
      "7\n"
     ]
    }
   ],
   "source": [
    "cuisine_options_count = restaurants.cuisine.nunique()\n",
    "print(cuisine_options_count)"
   ]
  },
  {
   "cell_type": "markdown",
   "metadata": {},
   "source": [
    "**the number of restautants of each cuisine.**"
   ]
  },
  {
   "cell_type": "code",
   "execution_count": 5,
   "metadata": {},
   "outputs": [
    {
     "name": "stdout",
     "output_type": "stream",
     "text": [
      "      cuisine  name\n",
      "0    American    10\n",
      "1     Chinese    11\n",
      "2     Italian     8\n",
      "3    Japanese     4\n",
      "4      Korean     3\n",
      "5       Pizza     4\n",
      "6  Vegetarian     4\n"
     ]
    }
   ],
   "source": [
    "cuisine_counts = restaurants.groupby('cuisine').name.count().reset_index()\n",
    "print(cuisine_counts)"
   ]
  },
  {
   "cell_type": "code",
   "execution_count": 8,
   "metadata": {},
   "outputs": [],
   "source": [
    "cuisines = cuisine_counts.cuisine.values\n",
    "counts = cuisine_counts.name.values"
   ]
  },
  {
   "cell_type": "markdown",
   "metadata": {},
   "source": [
    "**Creating a pie chart to explore the percentage of each cuisine**"
   ]
  },
  {
   "cell_type": "code",
   "execution_count": 10,
   "metadata": {},
   "outputs": [
    {
     "data": {
      "image/png": "[encoded data removed]",
      "text/plain": [
       "<Figure size 720x576 with 1 Axes>"
      ]
     },
     "metadata": {},
     "output_type": "display_data"
    }
   ],
   "source": [
    "plt.figure(figsize=(10,8))\n",
    "plt.pie(counts,labels=cuisines, autopct='%d%%')\n",
    "plt.title('FoodWheel')\n",
    "plt.axis('equal')\n",
    "plt.show()"
   ]
  },
  {
   "cell_type": "markdown",
   "metadata": {},
   "source": [
    "### Orders Over Time"
   ]
  },
  {
   "cell_type": "code",
   "execution_count": 4,
   "metadata": {
    "scrolled": true
   },
   "outputs": [
    {
     "name": "stdout",
     "output_type": "stream",
     "text": [
      "   id  customer_id       date  price\n",
      "0   1           61  6-18-2017   13.0\n",
      "1   2          210   5-8-2017   21.0\n",
      "2   3            0   9-7-2017   33.0\n",
      "3   4           66   7-7-2017   19.0\n",
      "4   5           65  4-26-2017   13.0\n",
      "5   6           43   6-7-2017   18.0\n",
      "6   7            8  6-25-2017   19.0\n",
      "7   8          104   4-8-2017    8.0\n",
      "8   9          136   9-6-2017   32.0\n",
      "9  10          116  4-10-2017   15.0\n"
     ]
    }
   ],
   "source": [
    "orders = pd.read_csv('orders.csv')\n",
    "print (orders.head(10))"
   ]
  },
  {
   "cell_type": "markdown",
   "metadata": {},
   "source": [
    "The function split will split a string on a character. For instance, if date is the string 6-18-2017, then date.split('-') would return the list [6, 18, 2017]. date.split('-')[0] would return the zero-indexed element '6'."
   ]
  },
  {
   "cell_type": "code",
   "execution_count": 11,
   "metadata": {},
   "outputs": [
    {
     "name": "stdout",
     "output_type": "stream",
     "text": [
      "   id  customer_id       date  price month\n",
      "0   1           61  6-18-2017   13.0     6\n",
      "1   2          210   5-8-2017   21.0     5\n",
      "2   3            0   9-7-2017   33.0     9\n",
      "3   4           66   7-7-2017   19.0     7\n",
      "4   5           65  4-26-2017   13.0     4\n"
     ]
    }
   ],
   "source": [
    "orders['month'] = orders.date.apply(lambda x: x.split('-')[0])\n",
    "print(orders.head())"
   ]
  },
  {
   "cell_type": "markdown",
   "metadata": {},
   "source": [
    "Management suspects that the average order size has increased over time. They’d like you to investigate if this claim is true."
   ]
  },
  {
   "cell_type": "code",
   "execution_count": 14,
   "metadata": {},
   "outputs": [
    {
     "name": "stdout",
     "output_type": "stream",
     "text": [
      "  month      price\n",
      "0     4   9.609195\n",
      "1     5  14.858824\n",
      "2     6  15.152174\n",
      "3     7  18.012821\n",
      "4     8  21.150685\n",
      "5     9  29.505882\n"
     ]
    }
   ],
   "source": [
    "avg_order = orders.groupby('month').price.mean().reset_index()\n",
    "print(avg_order)"
   ]
  },
  {
   "cell_type": "code",
   "execution_count": 15,
   "metadata": {},
   "outputs": [
    {
     "name": "stdout",
     "output_type": "stream",
     "text": [
      "  month     price\n",
      "0     4  2.562504\n",
      "1     5  3.395210\n",
      "2     6  2.835934\n",
      "3     7  2.848985\n",
      "4     8  4.455556\n",
      "5     9  4.518806\n"
     ]
    }
   ],
   "source": [
    "std_order = orders.groupby('month').price.std().reset_index()\n",
    "print(std_order)"
   ]
  },
  {
   "cell_type": "markdown",
   "metadata": {},
   "source": [
    "**Create a bar chart to share this data with the height of each bar coming from the average orders of each month and bar errors representing the standard deviations grouped by each month.**"
   ]
  },
  {
   "cell_type": "code",
   "execution_count": 16,
   "metadata": {},
   "outputs": [
    {
     "data": {
      "image/png": "[encoded data removed]",
      "text/plain": [
       "<Figure size 720x576 with 1 Axes>"
      ]
     },
     "metadata": {
      "needs_background": "light"
     },
     "output_type": "display_data"
    }
   ],
   "source": [
    "plt.figure(figsize=(10,8))\n",
    "\n",
    "# since there is only one plot, we could leave the arguement blank\n",
    "ax = plt.subplot()\n",
    "bar_heights = avg_order.price\n",
    "bar_errors = std_order.price\n",
    "plt.bar(range(len(bar_heights)), bar_heights, yerr=bar_errors, capsize=5)\n",
    "ax.set_xticks(range(len(bar_heights)))\n",
    "ax.set_xticklabels(['April', 'May', 'June', 'July', 'August', 'September'])\n",
    "plt.ylabel('Average Order Amount')\n",
    "plt.title('Order Amount over Time')\n",
    "plt.show()"
   ]
  },
  {
   "cell_type": "markdown",
   "metadata": {},
   "source": [
    "### Customer Types\n",
    "**Investigating customer types by creating a histogram of the amount spent by each of them over the past six months.**"
   ]
  },
  {
   "cell_type": "code",
   "execution_count": 17,
   "metadata": {},
   "outputs": [
    {
     "name": "stdout",
     "output_type": "stream",
     "text": [
      "   customer_id  price\n",
      "0            0   83.0\n",
      "1            2   11.0\n",
      "2            3   65.0\n",
      "3            4   32.0\n",
      "4            5  119.0\n",
      "5            6   29.0\n",
      "6            7   26.0\n",
      "7            8   56.0\n",
      "8            9   64.0\n",
      "9           11   22.0\n"
     ]
    }
   ],
   "source": [
    "customer_amount = orders.groupby('customer_id').price.sum().reset_index()\n",
    "print(customer_amount.head(10))"
   ]
  },
  {
   "cell_type": "code",
   "execution_count": 18,
   "metadata": {},
   "outputs": [
    {
     "data": {
      "image/png": "[encoded data removed]",
      "text/plain": [
       "<Figure size 720x576 with 1 Axes>"
      ]
     },
     "metadata": {
      "needs_background": "light"
     },
     "output_type": "display_data"
    }
   ],
   "source": [
    "plt.figure(figsize=(10,8))\n",
    "plt.hist(customer_amount.price.values, range=(0, 200), bins=40)\n",
    "plt.xlabel('Total Spent')\n",
    "plt.ylabel(\"Number of Customers\")\n",
    "plt.title('Customer Expenditure Over 6 Months')\n",
    "plt.show()"
   ]
  },
  {
   "cell_type": "code",
   "execution_count": null,
   "metadata": {},
   "outputs": [],
   "source": []
  }
 ],
 "metadata": {
  "kernelspec": {
   "display_name": "Python 3",
   "language": "python",
   "name": "python3"
  },
  "language_info": {
   "codemirror_mode": {
    "name": "ipython",
    "version": 3
   },
   "file_extension": ".py",
   "mimetype": "text/x-python",
   "name": "python",
   "nbconvert_exporter": "python",
   "pygments_lexer": "ipython3",
   "version": "3.8.5"
  }
 },
 "nbformat": 4,
 "nbformat_minor": 4
}
